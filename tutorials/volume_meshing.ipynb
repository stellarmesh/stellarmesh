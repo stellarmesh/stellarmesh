{
 "cells": [
  {
   "cell_type": "code",
   "execution_count": 1,
   "id": "d199f714",
   "metadata": {},
   "outputs": [
    {
     "name": "stderr",
     "output_type": "stream",
     "text": [
      "/home/alex/micromamba/envs/stellarmesh/lib/python3.12/site-packages/pymoab/__init__.py:21: UserWarning: pkg_resources is deprecated as an API. See https://setuptools.pypa.io/en/latest/pkg_resources.html. The pkg_resources package is slated for removal as early as 2025-11-30. Refrain from using this package or pin to Setuptools<81.\n",
      "  from pkg_resources import get_distribution, DistributionNotFound\n"
     ]
    }
   ],
   "source": [
    "import build123d as bd\n",
    "import stellarmesh as sm\n",
    "from IPython.display import Image\n",
    "import logging\n",
    "import tempfile"
   ]
  },
  {
   "cell_type": "code",
   "execution_count": 2,
   "id": "a27bd289",
   "metadata": {},
   "outputs": [],
   "source": [
    "logging.basicConfig()\n",
    "logging.getLogger(\"stellarmesh\").setLevel(logging.INFO)\n",
    "logger = logging.getLogger(__name__)\n",
    "logger.setLevel(logging.DEBUG)"
   ]
  },
  {
   "cell_type": "code",
   "execution_count": 3,
   "id": "0147cae8",
   "metadata": {},
   "outputs": [],
   "source": [
    "def render_mesh(mesh: sm.Mesh):\n",
    "    with tempfile.NamedTemporaryFile(suffix=\".png\", delete=False) as tmp_file:\n",
    "        mesh.render(tmp_file.name, rotation_xyz=(90, 0, -90), normals=0, clipping=True)\n",
    "        display(Image(tmp_file.name, width=800))"
   ]
  },
  {
   "cell_type": "code",
   "execution_count": 4,
   "id": "d4871ac4",
   "metadata": {},
   "outputs": [
    {
     "name": "stderr",
     "output_type": "stream",
     "text": [
      "INFO:stellarmesh.geometry:Importing 2 solids to geometry\n"
     ]
    }
   ],
   "source": [
    "solids = [bd.Solid.make_torus(10, 1)]\n",
    "for _ in range(2):\n",
    "    solids.append(bd.thicken(solids[-1].faces()[0], 1))\n",
    "solids = solids[1:]\n",
    "geometry = sm.Geometry(solids, material_names=[\"a\", \"a\"])"
   ]
  },
  {
   "cell_type": "markdown",
   "id": "0ea68b77",
   "metadata": {},
   "source": [
    "# Volume meshing"
   ]
  },
  {
   "cell_type": "code",
   "execution_count": 5,
   "id": "c106cc80",
   "metadata": {},
   "outputs": [
    {
     "name": "stdout",
     "output_type": "stream",
     "text": [
      "Info    : Meshing 1D...\n",
      "Info    : [  0%] Meshing curve 1 (Circle)\n",
      "Info    : [ 20%] Meshing curve 2 (Circle)\n",
      "Info    : [ 40%] Meshing curve 3 (Circle)\n",
      "Info    : [ 60%] Meshing curve 4 (Circle)\n",
      "Info    : [ 70%] Meshing curve 5 (Circle)\n",
      "Info    : [ 90%] Meshing curve 6 (Circle)\n",
      "Info    : Done meshing 1D (Wall 0.000316038s, CPU 0.000568s)\n",
      "Info    : Meshing 2D...\n",
      "Info    : [  0%] Meshing surface 1 (Torus, MeshAdapt)\n",
      "Info    : [ 40%] Meshing surface 2 (Torus, MeshAdapt)\n",
      "Info    : [ 70%] Meshing surface 3 (Torus, MeshAdapt)\n",
      "Info    : Done meshing 2D (Wall 0.786718s, CPU 0.852013s)\n",
      "Info    : Meshing 3D...\n",
      "Info    : 3D Meshing 2 volumes with 1 connected component\n",
      "Info    : Tetrahedrizing 3225 nodes...\n",
      "Info    : Done tetrahedrizing 3233 nodes (Wall 0.0292775s, CPU 0.030205s)\n",
      "Info    : Reconstructing mesh...\n",
      "Info    :  - Creating surface mesh\n",
      "Info    :  - Identifying boundary edges\n",
      "Info    :  - Recovering boundary\n",
      "Info    : Done reconstructing mesh (Wall 0.0645359s, CPU 0.064559s)\n",
      "Info    : Found volume 2\n",
      "Info    : Found void region\n",
      "Info    : Found volume 1\n",
      "Info    : It. 0 - 0 nodes created - worst tet radius 1.46729 (nodes removed 0 0)\n",
      "Info    : 3D refinement terminated (3225 nodes total):\n",
      "Info    :  - 0 Delaunay cavities modified for star shapeness\n",
      "Info    :  - 4 nodes could not be inserted\n",
      "Info    :  - 13520 tetrahedra created in 0.00128605 sec. (10512810 tets/s)\n",
      "Info    : 0 node relocations\n",
      "Info    : Done meshing 3D (Wall 0.171294s, CPU 0.181742s)\n",
      "Info    : Optimizing mesh...\n",
      "Info    : Optimizing volume 1\n",
      "Info    : Optimization starts (volume = 588.245) with worst = 0.0346815 / average = 0.784192:\n",
      "Info    : 0.00 < quality < 0.10 :        16 elements\n",
      "Info    : 0.10 < quality < 0.20 :        49 elements\n",
      "Info    : 0.20 < quality < 0.30 :        73 elements\n",
      "Info    : 0.30 < quality < 0.40 :        87 elements\n",
      "Info    : 0.40 < quality < 0.50 :        96 elements\n",
      "Info    : 0.50 < quality < 0.60 :       164 elements\n",
      "Info    : 0.60 < quality < 0.70 :       354 elements\n",
      "Info    : 0.70 < quality < 0.80 :      1255 elements\n",
      "Info    : 0.80 < quality < 0.90 :      2358 elements\n",
      "Info    : 0.90 < quality < 1.00 :       733 elements\n",
      "Info    : 136 edge swaps, 0 node relocations (volume = 588.245): worst = 0.0652107 / average = 0.800504 (Wall 0.00110675s, CPU 0.001364s)\n",
      "Info    : 139 edge swaps, 0 node relocations (volume = 588.245): worst = 0.0652107 / average = 0.800859 (Wall 0.00130586s, CPU 0.001653s)\n",
      "Info    : No ill-shaped tets in the mesh :-)\n",
      "Info    : 0.00 < quality < 0.10 :         1 elements\n",
      "Info    : 0.10 < quality < 0.20 :         0 elements\n",
      "Info    : 0.20 < quality < 0.30 :         3 elements\n",
      "Info    : 0.30 < quality < 0.40 :        89 elements\n",
      "Info    : 0.40 < quality < 0.50 :        91 elements\n",
      "Info    : 0.50 < quality < 0.60 :       141 elements\n",
      "Info    : 0.60 < quality < 0.70 :       338 elements\n",
      "Info    : 0.70 < quality < 0.80 :      1319 elements\n",
      "Info    : 0.80 < quality < 0.90 :      2348 elements\n",
      "Info    : 0.90 < quality < 1.00 :       729 elements\n",
      "Info    : Optimizing volume 2\n",
      "Info    : Optimization starts (volume = 986.068) with worst = 0.0167317 / average = 0.791951:\n",
      "Info    : 0.00 < quality < 0.10 :        27 elements\n",
      "Info    : 0.10 < quality < 0.20 :        56 elements\n",
      "Info    : 0.20 < quality < 0.30 :       106 elements\n",
      "Info    : 0.30 < quality < 0.40 :       136 elements\n",
      "Info    : 0.40 < quality < 0.50 :       209 elements\n",
      "Info    : 0.50 < quality < 0.60 :       262 elements\n",
      "Info    : 0.60 < quality < 0.70 :       551 elements\n",
      "Info    : 0.70 < quality < 0.80 :      1647 elements\n",
      "Info    : 0.80 < quality < 0.90 :      3897 elements\n",
      "Info    : 0.90 < quality < 1.00 :      1444 elements\n",
      "Info    : 189 edge swaps, 0 node relocations (volume = 986.068): worst = 0.241487 / average = 0.80616 (Wall 0.00164821s, CPU 0.001964s)\n",
      "Info    : 191 edge swaps, 0 node relocations (volume = 986.068): worst = 0.254837 / average = 0.806062 (Wall 0.00190613s, CPU 0.002333s)\n",
      "Info    : No ill-shaped tets in the mesh :-)\n",
      "Info    : 0.00 < quality < 0.10 :         0 elements\n",
      "Info    : 0.10 < quality < 0.20 :         0 elements\n",
      "Info    : 0.20 < quality < 0.30 :         2 elements\n",
      "Info    : 0.30 < quality < 0.40 :       138 elements\n",
      "Info    : 0.40 < quality < 0.50 :       202 elements\n",
      "Info    : 0.50 < quality < 0.60 :       244 elements\n",
      "Info    : 0.60 < quality < 0.70 :       534 elements\n",
      "Info    : 0.70 < quality < 0.80 :      1729 elements\n",
      "Info    : 0.80 < quality < 0.90 :      3891 elements\n",
      "Info    : 0.90 < quality < 1.00 :      1427 elements\n",
      "Info    : Done optimizing mesh (Wall 0.0115332s, CPU 0.013559s)\n",
      "Info    : 3225 nodes 19946 elements\n",
      "Info    : Writing '/tmp/tmp6ycmgovy.msh'...\n",
      "Info    : Done writing '/tmp/tmp6ycmgovy.msh'\n",
      "Info    : Reading '/tmp/tmp6ycmgovy.msh'...\n",
      "Info    : 14 entities\n",
      "Info    : 3225 nodes\n",
      "Info    : 19946 elements\n",
      "Info    : Done reading '/tmp/tmp6ycmgovy.msh'\n",
      "-------------------------------------------------------\n",
      "Version       : 4.13.1\n",
      "License       : GNU General Public License\n",
      "Build OS      : Linux64-sdk\n",
      "Build date    : 20241016\n",
      "Build host    : 2976249cf102\n",
      "Build options : 64Bit ALGLIB[contrib] ANN[contrib] Bamg Blossom Cairo DIntegration Dlopen DomHex Eigen[contrib] Fltk GMP Gmm[contrib] Hxt Jpeg Kbipack LinuxJoystick MathEx[contrib] Mesh Metis[contrib] Mpeg Netgen Nii2mesh ONELAB ONELABMetamodel OpenCASCADE OpenCASCADE-CAF OpenGL OpenMP OptHom Parser Plugins Png Post QuadMeshingTools QuadTri Solver TetGen/BR TinyXML2[contrib] Untangle Voro++[contrib] WinslowUntangler Zlib\n",
      "FLTK version  : 1.3.9\n",
      "OCC version   : 7.8.1\n",
      "Packaged by   : conda\n",
      "Web site      : https://gmsh.info\n",
      "Issue tracker : https://gitlab.onelab.info/gmsh/gmsh/issues\n",
      "-------------------------------------------------------\n",
      "Info    : Writing '/tmp/tmp0gxrrzpg.png'...\n",
      "Info    : Done writing '/tmp/tmp0gxrrzpg.png'\n"
     ]
    },
    {
     "name": "stderr",
     "output_type": "stream",
     "text": [
      "X_ChangeProperty: BadValue (integer parameter out of range for operation) 0x0\n"
     ]
    },
    {
     "data": {
      "image/png": "[encoded data removed]",
      "text/plain": [
       "<IPython.core.display.Image object>"
      ]
     },
     "metadata": {
      "image/png": {
       "width": 800
      }
     },
     "output_type": "display_data"
    }
   ],
   "source": [
    "options = sm.GmshVolumeOptions(min_mesh_size=0.1, max_mesh_size=1)\n",
    "mesh = sm.VolumeMesh.from_geometry(geometry, options)\n",
    "render_mesh(mesh)"
   ]
  }
 ],
 "metadata": {
  "kernelspec": {
   "display_name": "Python 3",
   "language": "python",
   "name": "python3"
  },
  "language_info": {
   "codemirror_mode": {
    "name": "ipython",
    "version": 3
   },
   "file_extension": ".py",
   "mimetype": "text/x-python",
   "name": "python",
   "nbconvert_exporter": "python",
   "pygments_lexer": "ipython3",
   "version": "3.12.11"
  }
 },
 "nbformat": 4,
 "nbformat_minor": 5
}
