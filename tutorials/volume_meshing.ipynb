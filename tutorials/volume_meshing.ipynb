{
 "cells": [
  {
   "cell_type": "code",
   "execution_count": 1,
   "id": "d199f714",
   "metadata": {},
   "outputs": [
    {
     "name": "stderr",
     "output_type": "stream",
     "text": [
      "/home/alex/micromamba/envs/stellarmesh/lib/python3.12/site-packages/pymoab/__init__.py:21: UserWarning: pkg_resources is deprecated as an API. See https://setuptools.pypa.io/en/latest/pkg_resources.html. The pkg_resources package is slated for removal as early as 2025-11-30. Refrain from using this package or pin to Setuptools<81.\n",
      "  from pkg_resources import get_distribution, DistributionNotFound\n"
     ]
    }
   ],
   "source": [
    "import logging\n",
    "import tempfile\n",
    "\n",
    "import build123d as bd\n",
    "from IPython.display import Image\n",
    "\n",
    "import stellarmesh as sm"
   ]
  },
  {
   "cell_type": "code",
   "execution_count": 2,
   "id": "a27bd289",
   "metadata": {},
   "outputs": [],
   "source": [
    "logging.basicConfig()\n",
    "logging.getLogger(\"stellarmesh\").setLevel(logging.INFO)\n",
    "logger = logging.getLogger(__name__)\n",
    "logger.setLevel(logging.DEBUG)"
   ]
  },
  {
   "cell_type": "code",
   "execution_count": 3,
   "id": "0147cae8",
   "metadata": {},
   "outputs": [],
   "source": [
    "def render_mesh(mesh: sm.Mesh):\n",
    "    with tempfile.NamedTemporaryFile(suffix=\".png\", delete=False) as tmp_file:\n",
    "        mesh.render(tmp_file.name, rotation_xyz=(90, 0, -90), normals=0, clipping=True)\n",
    "        display(Image(tmp_file.name, width=800))"
   ]
  },
  {
   "cell_type": "code",
   "execution_count": 4,
   "id": "d4871ac4",
   "metadata": {},
   "outputs": [],
   "source": [
    "def build_torus_geometry():\n",
    "    solids = [bd.Solid.make_torus(10, 1)]\n",
    "    for _ in range(2):\n",
    "        solids.append(bd.thicken(solids[-1].faces()[0], 1))\n",
    "    solids = solids[1:]\n",
    "    return sm.Geometry(solids, material_names=[\"a\", \"b\"])"
   ]
  },
  {
   "cell_type": "markdown",
   "id": "0ea68b77",
   "metadata": {},
   "source": [
    "# Volume meshing"
   ]
  },
  {
   "cell_type": "code",
   "execution_count": 5,
   "id": "c106cc80",
   "metadata": {},
   "outputs": [
    {
     "name": "stderr",
     "output_type": "stream",
     "text": [
      "INFO:stellarmesh.geometry:Importing 2 solids to geometry\n"
     ]
    },
    {
     "name": "stdout",
     "output_type": "stream",
     "text": [
      "Info    : Meshing 1D...\n",
      "Info    : [  0%] Meshing curve 1 (Circle)\n",
      "Info    : [ 20%] Meshing curve 2 (Circle)\n",
      "Info    : [ 40%] Meshing curve 3 (Circle)\n",
      "Info    : [ 60%] Meshing curve 4 (Circle)\n",
      "Info    : [ 70%] Meshing curve 5 (Circle)\n",
      "Info    : [ 90%] Meshing curve 6 (Circle)\n",
      "Info    : Done meshing 1D (Wall 0.000396029s, CPU 0.000641s)\n",
      "Info    : Meshing 2D...\n",
      "Info    : [  0%] Meshing surface 1 (Torus, MeshAdapt)\n",
      "Info    : [ 40%] Meshing surface 2 (Torus, MeshAdapt)\n",
      "Info    : [ 70%] Meshing surface 3 (Torus, MeshAdapt)\n",
      "Info    : Done meshing 2D (Wall 0.582938s, CPU 0.629713s)\n",
      "Info    : Meshing 3D...\n",
      "Info    : 3D Meshing 2 volumes with 1 connected component\n",
      "Info    : Tetrahedrizing 3225 nodes...\n",
      "Info    : Done tetrahedrizing 3233 nodes (Wall 0.0288606s, CPU 0.024197s)\n",
      "Info    : Reconstructing mesh...\n",
      "Info    :  - Creating surface mesh\n",
      "Info    :  - Identifying boundary edges\n",
      "Info    :  - Recovering boundary\n",
      "Info    : Done reconstructing mesh (Wall 0.0698886s, CPU 0.069602s)\n",
      "Info    : Found volume 2\n",
      "Info    : Found void region\n",
      "Info    : Found volume 1\n",
      "Info    : It. 0 - 0 nodes created - worst tet radius 1.46729 (nodes removed 0 0)\n",
      "Info    : 3D refinement terminated (3225 nodes total):\n",
      "Info    :  - 0 Delaunay cavities modified for star shapeness\n",
      "Info    :  - 4 nodes could not be inserted\n",
      "Info    :  - 13520 tetrahedra created in 0.000862029 sec. (15683927 tets/s)\n",
      "Info    : 0 node relocations\n",
      "Info    : Done meshing 3D (Wall 0.159189s, CPU 0.167756s)\n",
      "Info    : Optimizing mesh...\n",
      "Info    : Optimizing volume 1\n",
      "Info    : Optimization starts (volume = 588.245) with worst = 0.0346815 / average = 0.784192:\n",
      "Info    : 0.00 < quality < 0.10 :        16 elements\n",
      "Info    : 0.10 < quality < 0.20 :        49 elements\n",
      "Info    : 0.20 < quality < 0.30 :        73 elements\n",
      "Info    : 0.30 < quality < 0.40 :        87 elements\n",
      "Info    : 0.40 < quality < 0.50 :        96 elements\n",
      "Info    : 0.50 < quality < 0.60 :       164 elements\n",
      "Info    : 0.60 < quality < 0.70 :       354 elements\n",
      "Info    : 0.70 < quality < 0.80 :      1255 elements\n",
      "Info    : 0.80 < quality < 0.90 :      2358 elements\n",
      "Info    : 0.90 < quality < 1.00 :       733 elements\n",
      "Info    : 136 edge swaps, 0 node relocations (volume = 588.245): worst = 0.0652107 / average = 0.800504 (Wall 0.00121092s, CPU 0.001471s)\n",
      "Info    : 139 edge swaps, 0 node relocations (volume = 588.245): worst = 0.0652107 / average = 0.800859 (Wall 0.00144454s, CPU 0.001732s)\n",
      "Info    : No ill-shaped tets in the mesh :-)\n",
      "Info    : 0.00 < quality < 0.10 :         1 elements\n",
      "Info    : 0.10 < quality < 0.20 :         0 elements\n",
      "Info    : 0.20 < quality < 0.30 :         3 elements\n",
      "Info    : 0.30 < quality < 0.40 :        89 elements\n",
      "Info    : 0.40 < quality < 0.50 :        91 elements\n",
      "Info    : 0.50 < quality < 0.60 :       141 elements\n",
      "Info    : 0.60 < quality < 0.70 :       338 elements\n",
      "Info    : 0.70 < quality < 0.80 :      1319 elements\n",
      "Info    : 0.80 < quality < 0.90 :      2348 elements\n",
      "Info    : 0.90 < quality < 1.00 :       729 elements\n",
      "Info    : Optimizing volume 2\n",
      "Info    : Optimization starts (volume = 986.068) with worst = 0.0167317 / average = 0.791951:\n",
      "Info    : 0.00 < quality < 0.10 :        27 elements\n",
      "Info    : 0.10 < quality < 0.20 :        56 elements\n",
      "Info    : 0.20 < quality < 0.30 :       106 elements\n",
      "Info    : 0.30 < quality < 0.40 :       136 elements\n",
      "Info    : 0.40 < quality < 0.50 :       209 elements\n",
      "Info    : 0.50 < quality < 0.60 :       262 elements\n",
      "Info    : 0.60 < quality < 0.70 :       551 elements\n",
      "Info    : 0.70 < quality < 0.80 :      1647 elements\n",
      "Info    : 0.80 < quality < 0.90 :      3897 elements\n",
      "Info    : 0.90 < quality < 1.00 :      1444 elements\n",
      "Info    : 189 edge swaps, 0 node relocations (volume = 986.068): worst = 0.241487 / average = 0.80616 (Wall 0.00155059s, CPU 0.00182s)\n",
      "Info    : 191 edge swaps, 0 node relocations (volume = 986.068): worst = 0.254837 / average = 0.806062 (Wall 0.00178898s, CPU 0.002146s)\n",
      "Info    : No ill-shaped tets in the mesh :-)\n",
      "Info    : 0.00 < quality < 0.10 :         0 elements\n",
      "Info    : 0.10 < quality < 0.20 :         0 elements\n",
      "Info    : 0.20 < quality < 0.30 :         2 elements\n",
      "Info    : 0.30 < quality < 0.40 :       138 elements\n",
      "Info    : 0.40 < quality < 0.50 :       202 elements\n",
      "Info    : 0.50 < quality < 0.60 :       244 elements\n",
      "Info    : 0.60 < quality < 0.70 :       534 elements\n",
      "Info    : 0.70 < quality < 0.80 :      1729 elements\n",
      "Info    : 0.80 < quality < 0.90 :      3891 elements\n",
      "Info    : 0.90 < quality < 1.00 :      1427 elements\n",
      "Info    : Done optimizing mesh (Wall 0.0109469s, CPU 0.012623s)\n",
      "Info    : 3225 nodes 19946 elements\n",
      "Info    : Writing '/tmp/tmpu1s1vbkp.msh'...\n",
      "Info    : Done writing '/tmp/tmpu1s1vbkp.msh'\n",
      "Info    : Reading '/tmp/tmpu1s1vbkp.msh'...\n",
      "Info    : 14 entities\n",
      "Info    : 3225 nodes\n",
      "Info    : 19946 elements\n",
      "Info    : Done reading '/tmp/tmpu1s1vbkp.msh'\n",
      "-------------------------------------------------------\n",
      "Version       : 4.13.1\n",
      "License       : GNU General Public License\n",
      "Build OS      : Linux64-sdk\n",
      "Build date    : 20241016\n",
      "Build host    : 2976249cf102\n",
      "Build options : 64Bit ALGLIB[contrib] ANN[contrib] Bamg Blossom Cairo DIntegration Dlopen DomHex Eigen[contrib] Fltk GMP Gmm[contrib] Hxt Jpeg Kbipack LinuxJoystick MathEx[contrib] Mesh Metis[contrib] Mpeg Netgen Nii2mesh ONELAB ONELABMetamodel OpenCASCADE OpenCASCADE-CAF OpenGL OpenMP OptHom Parser Plugins Png Post QuadMeshingTools QuadTri Solver TetGen/BR TinyXML2[contrib] Untangle Voro++[contrib] WinslowUntangler Zlib\n",
      "FLTK version  : 1.3.9\n",
      "OCC version   : 7.8.1\n",
      "Packaged by   : conda\n",
      "Web site      : https://gmsh.info\n",
      "Issue tracker : https://gitlab.onelab.info/gmsh/gmsh/issues\n",
      "-------------------------------------------------------\n",
      "Info    : Writing '/tmp/tmpso1fumsi.png'...\n",
      "Info    : Done writing '/tmp/tmpso1fumsi.png'\n"
     ]
    },
    {
     "name": "stderr",
     "output_type": "stream",
     "text": [
      "X_ChangeProperty: BadValue (integer parameter out of range for operation) 0x0\n"
     ]
    },
    {
     "data": {
      "image/png": "[encoded data removed]",
      "text/plain": [
       "<IPython.core.display.Image object>"
      ]
     },
     "metadata": {
      "image/png": {
       "width": 800
      }
     },
     "output_type": "display_data"
    }
   ],
   "source": [
    "geometry = build_torus_geometry()\n",
    "options = sm.GmshVolumeOptions(max_mesh_size=1)\n",
    "mesh = sm.VolumeMesh.from_geometry(geometry, options)\n",
    "render_mesh(mesh)"
   ]
  },
  {
   "cell_type": "markdown",
   "id": "2e353443",
   "metadata": {},
   "source": [
    "We can again use all the same mesh parameters as for surface meshing."
   ]
  },
  {
   "cell_type": "code",
   "execution_count": 6,
   "id": "74d1e715",
   "metadata": {},
   "outputs": [
    {
     "name": "stderr",
     "output_type": "stream",
     "text": [
      "INFO:stellarmesh.geometry:Importing 2 solids to geometry\n"
     ]
    },
    {
     "name": "stdout",
     "output_type": "stream",
     "text": [
      "Info    : Meshing 1D...\n",
      "Info    : [  0%] Meshing curve 1 (Circle)\n",
      "Info    : [ 20%] Meshing curve 2 (Circle)\n",
      "Info    : [ 40%] Meshing curve 3 (Circle)\n",
      "Info    : [ 60%] Meshing curve 4 (Circle)\n",
      "Info    : [ 70%] Meshing curve 5 (Circle)\n",
      "Info    : [ 90%] Meshing curve 6 (Circle)\n",
      "Info    : Done meshing 1D (Wall 0.000603832s, CPU 0.001099s)\n",
      "Info    : Meshing 2D...\n",
      "Info    : [  0%] Meshing surface 1 (Torus, MeshAdapt)\n"
     ]
    },
    {
     "name": "stdout",
     "output_type": "stream",
     "text": [
      "Info    : [ 40%] Meshing surface 2 (Torus, MeshAdapt)\n",
      "Info    : [ 70%] Meshing surface 3 (Torus, MeshAdapt)\n",
      "Info    : Done meshing 2D (Wall 0.764098s, CPU 0.835995s)\n",
      "Info    : Meshing 3D...\n",
      "Info    : 3D Meshing 2 volumes with 1 connected component\n",
      "Info    : Tetrahedrizing 2441 nodes...\n",
      "Info    : Done tetrahedrizing 2449 nodes (Wall 0.0234482s, CPU 0.020996s)\n",
      "Info    : Reconstructing mesh...\n",
      "Info    :  - Creating surface mesh\n",
      "Info    :  - Identifying boundary edges\n",
      "Info    :  - Recovering boundary\n",
      "Info    : Done reconstructing mesh (Wall 0.0443563s, CPU 0.038907s)\n",
      "Info    : Found void region\n",
      "Info    : Found volume 1\n",
      "Info    : Found volume 2\n",
      "Info    : It. 0 - 0 nodes created - worst tet radius 1.46838 (nodes removed 0 0)\n",
      "Info    : 3D refinement terminated (2444 nodes total):\n",
      "Info    :  - 0 Delaunay cavities modified for star shapeness\n",
      "Info    :  - 5 nodes could not be inserted\n",
      "Info    :  - 9843 tetrahedra created in 0.00321705 sec. (3059639 tets/s)\n",
      "Info    : 0 node relocations\n",
      "Info    : Done meshing 3D (Wall 0.127758s, CPU 0.13061s)\n",
      "Info    : Optimizing mesh...\n",
      "Info    : Optimizing volume 1\n",
      "Info    : Optimization starts (volume = 568.728) with worst = 0.0206395 / average = 0.666945:\n",
      "Info    : 0.00 < quality < 0.10 :        27 elements\n",
      "Info    : 0.10 < quality < 0.20 :        82 elements\n",
      "Info    : 0.20 < quality < 0.30 :       131 elements\n",
      "Info    : 0.30 < quality < 0.40 :       177 elements\n",
      "Info    : 0.40 < quality < 0.50 :       397 elements\n",
      "Info    : 0.50 < quality < 0.60 :      1308 elements\n",
      "Info    : 0.60 < quality < 0.70 :      1877 elements\n",
      "Info    : 0.70 < quality < 0.80 :       941 elements\n",
      "Info    : 0.80 < quality < 0.90 :       335 elements\n",
      "Info    : 0.90 < quality < 1.00 :      1066 elements\n",
      "Info    : 233 edge swaps, 1 node relocations (volume = 568.728): worst = 0.0855362 / average = 0.685875 (Wall 0.00185349s, CPU 0.002098s)\n",
      "Info    : 244 edge swaps, 1 node relocations (volume = 568.728): worst = 0.144806 / average = 0.686028 (Wall 0.00221439s, CPU 0.002613s)\n",
      "Info    : 246 edge swaps, 1 node relocations (volume = 568.728): worst = 0.238696 / average = 0.686083 (Wall 0.00248366s, CPU 0.002939s)\n",
      "Info    : No ill-shaped tets in the mesh :-)\n",
      "Info    : 0.00 < quality < 0.10 :         0 elements\n",
      "Info    : 0.10 < quality < 0.20 :         0 elements\n",
      "Info    : 0.20 < quality < 0.30 :         8 elements\n",
      "Info    : 0.30 < quality < 0.40 :       170 elements\n",
      "Info    : 0.40 < quality < 0.50 :       387 elements\n",
      "Info    : 0.50 < quality < 0.60 :      1286 elements\n",
      "Info    : 0.60 < quality < 0.70 :      1887 elements\n",
      "Info    : 0.70 < quality < 0.80 :       999 elements\n",
      "Info    : 0.80 < quality < 0.90 :       344 elements\n",
      "Info    : 0.90 < quality < 1.00 :      1048 elements\n",
      "Info    : Optimizing volume 2\n",
      "Info    : Optimization starts (volume = 942.333) with worst = 0.0201113 / average = 0.746371:\n",
      "Info    : 0.00 < quality < 0.10 :        10 elements\n",
      "Info    : 0.10 < quality < 0.20 :        37 elements\n",
      "Info    : 0.20 < quality < 0.30 :        48 elements\n",
      "Info    : 0.30 < quality < 0.40 :        67 elements\n",
      "Info    : 0.40 < quality < 0.50 :        76 elements\n",
      "Info    : 0.50 < quality < 0.60 :       215 elements\n",
      "Info    : 0.60 < quality < 0.70 :       553 elements\n",
      "Info    : 0.70 < quality < 0.80 :       930 elements\n",
      "Info    : 0.80 < quality < 0.90 :      1213 elements\n",
      "Info    : 0.90 < quality < 1.00 :       353 elements\n",
      "Info    : 95 edge swaps, 0 node relocations (volume = 942.333): worst = 0.167908 / average = 0.759982 (Wall 0.00081453s, CPU 0.000983s)\n",
      "Info    : 98 edge swaps, 0 node relocations (volume = 942.333): worst = 0.265701 / average = 0.760477 (Wall 0.000980714s, CPU 0.001199s)\n",
      "Info    : No ill-shaped tets in the mesh :-)\n",
      "Info    : 0.00 < quality < 0.10 :         0 elements\n",
      "Info    : 0.10 < quality < 0.20 :         0 elements\n",
      "Info    : 0.20 < quality < 0.30 :         2 elements\n",
      "Info    : 0.30 < quality < 0.40 :        71 elements\n",
      "Info    : 0.40 < quality < 0.50 :        75 elements\n",
      "Info    : 0.50 < quality < 0.60 :       225 elements\n",
      "Info    : 0.60 < quality < 0.70 :       561 elements\n",
      "Info    : 0.70 < quality < 0.80 :       912 elements\n",
      "Info    : 0.80 < quality < 0.90 :      1222 elements\n",
      "Info    : 0.90 < quality < 1.00 :       352 elements\n",
      "Info    : Done optimizing mesh (Wall 0.0095883s, CPU 0.011056s)\n",
      "Info    : 2444 nodes 14678 elements\n",
      "Info    : Writing '/tmp/tmphfvt03ft.msh'...\n",
      "Info    : Done writing '/tmp/tmphfvt03ft.msh'\n",
      "Info    : Reading '/tmp/tmphfvt03ft.msh'...\n",
      "Info    : 14 entities\n",
      "Info    : 2444 nodes\n",
      "Info    : 14678 elements\n",
      "Info    : Done reading '/tmp/tmphfvt03ft.msh'\n",
      "-------------------------------------------------------\n",
      "Version       : 4.13.1\n",
      "License       : GNU General Public License\n",
      "Build OS      : Linux64-sdk\n",
      "Build date    : 20241016\n",
      "Build host    : 2976249cf102\n",
      "Build options : 64Bit ALGLIB[contrib] ANN[contrib] Bamg Blossom Cairo DIntegration Dlopen DomHex Eigen[contrib] Fltk GMP Gmm[contrib] Hxt Jpeg Kbipack LinuxJoystick MathEx[contrib] Mesh Metis[contrib] Mpeg Netgen Nii2mesh ONELAB ONELABMetamodel OpenCASCADE OpenCASCADE-CAF OpenGL OpenMP OptHom Parser Plugins Png Post QuadMeshingTools QuadTri Solver TetGen/BR TinyXML2[contrib] Untangle Voro++[contrib] WinslowUntangler Zlib\n",
      "FLTK version  : 1.3.9\n",
      "OCC version   : 7.8.1\n",
      "Packaged by   : conda\n",
      "Web site      : https://gmsh.info\n",
      "Issue tracker : https://gitlab.onelab.info/gmsh/gmsh/issues\n",
      "-------------------------------------------------------\n",
      "Info    : Writing '/tmp/tmpekay9nq6.png'...\n",
      "Info    : Done writing '/tmp/tmpekay9nq6.png'\n"
     ]
    },
    {
     "name": "stderr",
     "output_type": "stream",
     "text": [
      "X_ChangeProperty: BadValue (integer parameter out of range for operation) 0x0\n"
     ]
    },
    {
     "data": {
      "image/png": "[encoded data removed]",
      "text/plain": [
       "<IPython.core.display.Image object>"
      ]
     },
     "metadata": {
      "image/png": {
       "width": 800
      }
     },
     "output_type": "display_data"
    }
   ],
   "source": [
    "geometry = build_torus_geometry()\n",
    "options = sm.GmshVolumeOptions(curvature_target=10)\n",
    "mesh = sm.VolumeMesh.from_geometry(geometry, options)\n",
    "render_mesh(mesh)"
   ]
  },
  {
   "cell_type": "markdown",
   "id": "ecce159c",
   "metadata": {},
   "source": [
    "As for surface meshing with Gmsh, we can select from a number of surface and volume meshing algorithms. For reference see the Gmsh documentation."
   ]
  },
  {
   "cell_type": "code",
   "execution_count": 9,
   "id": "322be390",
   "metadata": {},
   "outputs": [
    {
     "name": "stderr",
     "output_type": "stream",
     "text": [
      "INFO:stellarmesh.geometry:Importing 2 solids to geometry\n"
     ]
    },
    {
     "name": "stdout",
     "output_type": "stream",
     "text": [
      "Info    : Meshing 1D...\n",
      "Info    : [  0%] Meshing curve 1 (Circle)\n",
      "Info    : [ 20%] Meshing curve 2 (Circle)\n",
      "Info    : [ 40%] Meshing curve 3 (Circle)\n",
      "Info    : [ 60%] Meshing curve 4 (Circle)\n",
      "Info    : [ 70%] Meshing curve 5 (Circle)\n",
      "Info    : [ 90%] Meshing curve 6 (Circle)\n",
      "Info    : Done meshing 1D (Wall 0.000712775s, CPU 0.000989s)\n",
      "Info    : Meshing 2D...\n",
      "Info    : [  0%] Meshing surface 1 (Torus, MeshAdapt)\n",
      "Info    : [ 40%] Meshing surface 2 (Torus, MeshAdapt)\n",
      "Info    : [ 70%] Meshing surface 3 (Torus, MeshAdapt)\n",
      "Info    : Done meshing 2D (Wall 2.06877s, CPU 2.25527s)\n",
      "Info    : Meshing 3D...\n",
      "Info    : Meshing volume 1 (Frontal)\n",
      "Info    : Region 1 Face 1, 3 intersect\n",
      "Info    : Region 1 Face 2, 2 intersect\n",
      "Info    : CalcLocalH: 4513 Points 0 Elements 9026 Surface Elements \n",
      "Info    : Check subdomain 1 / 1 \n",
      "Info    : 9026 open elements \n",
      "Info    : Meshing subdomain 1 of 1 \n",
      "Info    : 9026 open elements \n",
      "Info    : Use internal rules \n",
      "Info    : 9026 open elements \n",
      "Info    : Delaunay meshing \n",
      "Info    : number of points: 4513 \n",
      "Info    : blockfill local h \n",
      "Info    : number of points: 5002 \n",
      "Info    : Points: 5002 \n",
      "Info    : Elements: 36868 \n",
      "Info    : 36 open elements \n",
      "Info    : Num open: 36 \n",
      "Info    : free: 723, fixed: 36145 \n",
      "Info    : SwapImprove  \n",
      "Info    : 134 swaps performed \n",
      "Info    : 4 open elements \n",
      "Info    : Num open: 4 \n",
      "Info    : free: 72, fixed: 36741 \n",
      "Info    : SwapImprove  \n",
      "Info    : 0 swaps performed \n",
      "Info    : 0 degenerated elements removed \n",
      "Info    : Remove intersecting \n",
      "Info    : Remove outer \n",
      "Info    : tables filled \n",
      "Info    : outer removed \n",
      "Info    : 9026 open elements \n",
      "Info    : 4825 points, 16322 elements \n",
      "Info    : 8 open elements \n",
      "Info    : 8 open faces \n",
      "Info    : start tetmeshing \n",
      "Info    : Use internal rules \n",
      "Info    : El: 0 faces: 8 vol = 100 \n",
      "Info    : El: 4 faces: 8 vol = 52.1367 \n",
      "Info    : El: 5 faces: 8 vol = 34.511 \n",
      "Info    : El: 6 faces: 6 vol = 27.9988 \n",
      "Info    : El: 7 faces: 4 vol = 22.6167 \n",
      "Info    : 0 open elements \n",
      "Info    : Success ! \n",
      "Info    : 4826 points, 16330 elements \n",
      "Info    : Meshing volume 2 (Frontal)\n",
      "Info    : Region 2 Face 3, 3 intersect\n",
      "Info    : Region 2 Face 1, 1 intersect\n",
      "Info    : CalcLocalH: 2445 Points 0 Elements 4890 Surface Elements \n",
      "Info    : Check subdomain 1 / 1 \n",
      "Info    : 4890 open elements \n",
      "Info    : Meshing subdomain 1 of 1 \n",
      "Info    : 4890 open elements \n",
      "Info    : Use internal rules \n",
      "Info    : 4890 open elements \n",
      "Info    : Delaunay meshing \n",
      "Info    : number of points: 2445 \n",
      "Info    : blockfill local h \n",
      "Info    : number of points: 2461 \n",
      "Info    : Points: 2461 \n",
      "Info    : Elements: 16854 \n",
      "Info    : 8 open elements \n",
      "Info    : Num open: 8 \n",
      "Info    : free: 120, fixed: 16734 \n",
      "Info    : SwapImprove  \n",
      "Info    : 14 swaps performed \n",
      "Info    : 0 open elements \n",
      "Info    : Num open: 0 \n",
      "Info    : free: 0, fixed: 16848 \n",
      "Info    : SwapImprove  \n",
      "Info    : 0 swaps performed \n",
      "Info    : 0 degenerated elements removed \n",
      "Info    : Remove intersecting \n",
      "Info    : Remove outer \n",
      "Info    : tables filled \n",
      "Info    : outer removed \n",
      "Info    : 4890 open elements \n",
      "Info    : 2445 points, 7729 elements \n",
      "Info    : 0 open elements \n",
      "Info    : 0 open faces \n",
      "Info    : start tetmeshing \n",
      "Info    : Use internal rules \n",
      "Info    : 0 open elements \n",
      "Info    : Success ! \n",
      "Info    : 2445 points, 7729 elements \n",
      "Info    : Done meshing 3D (Wall 0.541226s, CPU 0.559544s)\n",
      "Info    : Optimizing mesh...\n",
      "Info    : Optimizing volume 1\n",
      "Info    : Optimization starts (volume = 580.374) with worst = 0.00824355 / average = 0.584817:\n",
      "Info    : 0.00 < quality < 0.10 :       131 elements\n",
      "Info    : 0.10 < quality < 0.20 :       302 elements\n",
      "Info    : 0.20 < quality < 0.30 :       559 elements\n",
      "Info    : 0.30 < quality < 0.40 :      1054 elements\n",
      "Info    : 0.40 < quality < 0.50 :      3449 elements\n",
      "Info    : 0.50 < quality < 0.60 :      4676 elements\n",
      "Info    : 0.60 < quality < 0.70 :      1753 elements\n",
      "Info    : 0.70 < quality < 0.80 :      1176 elements\n",
      "Info    : 0.80 < quality < 0.90 :      2246 elements\n",
      "Info    : 0.90 < quality < 1.00 :       984 elements\n",
      "Info    : 840 edge swaps, 37 node relocations (volume = 580.374): worst = 0.0697151 / average = 0.607455 (Wall 0.00715091s, CPU 0.007913s)\n",
      "Info    : 887 edge swaps, 43 node relocations (volume = 580.374): worst = 0.0697151 / average = 0.608312 (Wall 0.00851955s, CPU 0.009489s)\n",
      "Info    : No ill-shaped tets in the mesh :-)\n",
      "Info    : 0.00 < quality < 0.10 :         1 elements\n",
      "Info    : 0.10 < quality < 0.20 :         6 elements\n",
      "Info    : 0.20 < quality < 0.30 :        51 elements\n",
      "Info    : 0.30 < quality < 0.40 :       965 elements\n",
      "Info    : 0.40 < quality < 0.50 :      3486 elements\n",
      "Info    : 0.50 < quality < 0.60 :      4822 elements\n",
      "Info    : 0.60 < quality < 0.70 :      1862 elements\n",
      "Info    : 0.70 < quality < 0.80 :      1200 elements\n",
      "Info    : 0.80 < quality < 0.90 :      2273 elements\n",
      "Info    : 0.90 < quality < 1.00 :       918 elements\n",
      "Info    : Optimizing volume 2\n",
      "Info    : Optimization starts (volume = 967.487) with worst = 0.025926 / average = 0.756678:\n",
      "Info    : 0.00 < quality < 0.10 :        19 elements\n",
      "Info    : 0.10 < quality < 0.20 :        99 elements\n",
      "Info    : 0.20 < quality < 0.30 :       113 elements\n",
      "Info    : 0.30 < quality < 0.40 :       142 elements\n",
      "Info    : 0.40 < quality < 0.50 :       194 elements\n",
      "Info    : 0.50 < quality < 0.60 :       405 elements\n",
      "Info    : 0.60 < quality < 0.70 :      1199 elements\n",
      "Info    : 0.70 < quality < 0.80 :      2116 elements\n",
      "Info    : 0.80 < quality < 0.90 :      1918 elements\n",
      "Info    : 0.90 < quality < 1.00 :      1524 elements\n",
      "Info    : 225 edge swaps, 0 node relocations (volume = 967.487): worst = 0.07476 / average = 0.774006 (Wall 0.00173571s, CPU 0.002047s)\n",
      "Info    : 231 edge swaps, 0 node relocations (volume = 967.487): worst = 0.07476 / average = 0.774361 (Wall 0.00206323s, CPU 0.002433s)\n",
      "Info    : No ill-shaped tets in the mesh :-)\n",
      "Info    : 0.00 < quality < 0.10 :         2 elements\n",
      "Info    : 0.10 < quality < 0.20 :         2 elements\n",
      "Info    : 0.20 < quality < 0.30 :         3 elements\n",
      "Info    : 0.30 < quality < 0.40 :       140 elements\n",
      "Info    : 0.40 < quality < 0.50 :       189 elements\n",
      "Info    : 0.50 < quality < 0.60 :       389 elements\n",
      "Info    : 0.60 < quality < 0.70 :      1176 elements\n",
      "Info    : 0.70 < quality < 0.80 :      2156 elements\n",
      "Info    : 0.80 < quality < 0.90 :      1951 elements\n",
      "Info    : 0.90 < quality < 1.00 :      1511 elements\n",
      "Info    : Done optimizing mesh (Wall 0.0274459s, CPU 0.026204s)\n",
      "Info    : 5808 nodes 34531 elements\n",
      "Info    : Writing '/tmp/tmpzsgdbdfb.msh'...\n",
      "Info    : Done writing '/tmp/tmpzsgdbdfb.msh'\n",
      "Info    : Reading '/tmp/tmpzsgdbdfb.msh'...\n",
      "Info    : 14 entities\n",
      "Info    : 5808 nodes\n",
      "Info    : 34531 elements\n",
      "Info    : Done reading '/tmp/tmpzsgdbdfb.msh'\n",
      "-------------------------------------------------------\n",
      "Version       : 4.13.1\n",
      "License       : GNU General Public License\n",
      "Build OS      : Linux64-sdk\n",
      "Build date    : 20241016\n",
      "Build host    : 2976249cf102\n",
      "Build options : 64Bit ALGLIB[contrib] ANN[contrib] Bamg Blossom Cairo DIntegration Dlopen DomHex Eigen[contrib] Fltk GMP Gmm[contrib] Hxt Jpeg Kbipack LinuxJoystick MathEx[contrib] Mesh Metis[contrib] Mpeg Netgen Nii2mesh ONELAB ONELABMetamodel OpenCASCADE OpenCASCADE-CAF OpenGL OpenMP OptHom Parser Plugins Png Post QuadMeshingTools QuadTri Solver TetGen/BR TinyXML2[contrib] Untangle Voro++[contrib] WinslowUntangler Zlib\n",
      "FLTK version  : 1.3.9\n",
      "OCC version   : 7.8.1\n",
      "Packaged by   : conda\n",
      "Web site      : https://gmsh.info\n",
      "Issue tracker : https://gitlab.onelab.info/gmsh/gmsh/issues\n",
      "-------------------------------------------------------\n",
      "Info    : Writing '/tmp/tmps206dyw0.png'...\n",
      "Info    : Done writing '/tmp/tmps206dyw0.png'\n"
     ]
    },
    {
     "name": "stderr",
     "output_type": "stream",
     "text": [
      "X_ChangeProperty: BadValue (integer parameter out of range for operation) 0x0\n"
     ]
    },
    {
     "data": {
      "image/png": "[encoded data removed]",
      "text/plain": [
       "<IPython.core.display.Image object>"
      ]
     },
     "metadata": {
      "image/png": {
       "width": 800
      }
     },
     "output_type": "display_data"
    }
   ],
   "source": [
    "geometry = build_torus_geometry()\n",
    "options = sm.GmshVolumeOptions(\n",
    "    curvature_target=15,\n",
    "    algorithm2d=sm.GmshSurfaceAlgo.MESH_ADAPT,\n",
    "    algorithm3d=sm.GmshVolumeAlgo.FRONTAL,\n",
    ")\n",
    "mesh = sm.VolumeMesh.from_geometry(geometry, options)\n",
    "render_mesh(mesh)"
   ]
  },
  {
   "cell_type": "markdown",
   "id": "33246092",
   "metadata": {},
   "source": [
    "# MOAB and EXODUS export"
   ]
  },
  {
   "cell_type": "code",
   "execution_count": 10,
   "id": "05093d47",
   "metadata": {},
   "outputs": [
    {
     "name": "stdout",
     "output_type": "stream",
     "text": [
      "Info    : Reading '/tmp/tmpzsgdbdfb.msh'...\n",
      "Info    : 14 entities\n",
      "Info    : 5808 nodes\n",
      "Info    : 34531 elements\n",
      "Info    : Done reading '/tmp/tmpzsgdbdfb.msh'\n",
      "Info    : Writing '/tmp/tmpb375y5xh.vtk'...\n",
      "Info    : Done writing '/tmp/tmpb375y5xh.vtk'\n",
      "Info    : Reading '/tmp/tmpzsgdbdfb.msh'...\n",
      "Info    : 14 entities\n",
      "Info    : 5808 nodes\n",
      "Info    : 34531 elements\n",
      "Info    : Done reading '/tmp/tmpzsgdbdfb.msh'\n",
      "Info    : Writing 'torus3d.exo'...\n",
      "Info    : Writing '/tmp/tmpuwr18wsn.msh'...\n",
      "Info    : Done writing '/tmp/tmpuwr18wsn.msh'\n",
      "\n"
     ]
    },
    {
     "name": "stderr",
     "output_type": "stream",
     "text": [
      "Error   : Unknown output file format\n"
     ]
    }
   ],
   "source": [
    "# MOAB export\n",
    "sm.MOABModel.from_mesh(mesh).write(\"torus3d.h5m\")\n",
    "\n",
    "# EXODUS export\n",
    "mesh.write(\"torus3d.exo\")"
   ]
  }
 ],
 "metadata": {
  "kernelspec": {
   "display_name": "Python 3",
   "language": "python",
   "name": "python3"
  },
  "language_info": {
   "codemirror_mode": {
    "name": "ipython",
    "version": 3
   },
   "file_extension": ".py",
   "mimetype": "text/x-python",
   "name": "python",
   "nbconvert_exporter": "python",
   "pygments_lexer": "ipython3",
   "version": "3.12.11"
  }
 },
 "nbformat": 4,
 "nbformat_minor": 5
}
